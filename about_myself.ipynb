{
 "cells": [
  {
   "cell_type": "markdown",
   "metadata": {
    "slideshow": {
     "slide_type": "slide"
    }
   },
   "source": []
  },
  {
   "cell_type": "markdown",
   "metadata": {
    "slideshow": {
     "slide_type": "slide"
    }
   },
   "source": [
    "# Johannes Wasmer <img style=\"float: right;\" width=\"100\" src=\"img/picture_64pt.jpg\"> \n",
    "\n",
    "   \n",
    "\n",
    "\n",
    "\n",
    "\n",
    "<!-- <img src=\"picture_64pt.jpg\"> -->\n",
    "<!-- ![<any name here>](picture_64pt.jpg) -->\n",
    "\n",
    "<!-- <img src=\"picture_64pt.jpg\" width=\"10%\"> -->"
   ]
  },
  {
   "cell_type": "markdown",
   "metadata": {
    "slideshow": {
     "slide_type": "fragment"
    }
   },
   "source": [
    "- Bachelor: software engineering & applied math "
   ]
  },
  {
   "cell_type": "markdown",
   "metadata": {
    "slideshow": {
     "slide_type": "fragment"
    }
   },
   "source": [
    "- Master:\n",
    "  - core: numerical methods & HPC\n",
    "  - emphasis: computational solid state physics & data science"
   ]
  },
  {
   "cell_type": "markdown",
   "metadata": {
    "slideshow": {
     "slide_type": "fragment"
    }
   },
   "source": [
    "- Interests:"
   ]
  },
  {
   "cell_type": "markdown",
   "metadata": {
    "slideshow": {
     "slide_type": "fragment"
    }
   },
   "source": [
    "<img style=\"float: center;\" src=\"img/logos.png\">"
   ]
  },
  {
   "cell_type": "markdown",
   "metadata": {
    "slideshow": {
     "slide_type": "slide"
    }
   },
   "source": [
    "# Some projects I did"
   ]
  },
  {
   "cell_type": "markdown",
   "metadata": {
    "slideshow": {
     "slide_type": "slide"
    }
   },
   "source": [
    "# Bachelor thesis"
   ]
  },
  {
   "cell_type": "markdown",
   "metadata": {
    "slideshow": {
     "slide_type": "fragment"
    }
   },
   "source": [
    "- 2017 at [Access e.V.](http://www.access.rwth-aachen.de/)"
   ]
  },
  {
   "cell_type": "markdown",
   "metadata": {
    "slideshow": {
     "slide_type": "fragment"
    }
   },
   "source": [
    "- Wrote a database for metal casting simulations"
   ]
  },
  {
   "cell_type": "markdown",
   "metadata": {
    "slideshow": {
     "slide_type": "fragment"
    }
   },
   "source": [
    "- Including a `diff` tool for simple statistical comparison of simulations"
   ]
  },
  {
   "cell_type": "markdown",
   "metadata": {
    "slideshow": {
     "slide_type": "subslide"
    }
   },
   "source": [
    "<img style=\"float: center;\" width=\"1500\" src=\"img/2017_bsc-thesis_gui_db.png\">\n",
    "<!-- <img style=\"float: center;\" with=\"1068\" src=\"img/2017_bsc-thesis_gui_db.png\"> -->"
   ]
  },
  {
   "cell_type": "markdown",
   "metadata": {
    "slideshow": {
     "slide_type": "subslide"
    }
   },
   "source": [
    "<img style=\"float: center;\" width=\"1500\" src=\"img/2017_bsc-thesis_gui_diff.png\">"
   ]
  },
  {
   "cell_type": "markdown",
   "metadata": {
    "slideshow": {
     "slide_type": "slide"
    }
   },
   "source": [
    "# Guest student"
   ]
  },
  {
   "cell_type": "markdown",
   "metadata": {
    "slideshow": {
     "slide_type": "fragment"
    }
   },
   "source": [
    "- 2018 at [Jülich Supercomputing Centre](https://www.fz-juelich.de/ias/jsc)"
   ]
  },
  {
   "cell_type": "markdown",
   "metadata": {
    "slideshow": {
     "slide_type": "fragment"
    }
   },
   "source": [
    "- Wrote treemap visualization plugin for [Cube performance report explorer](https://www.scalasca.org/software/cube-4.x)"
   ]
  },
  {
   "cell_type": "markdown",
   "metadata": {
    "slideshow": {
     "slide_type": "subslide"
    }
   },
   "source": [
    "<img style=\"float: center;\" width=\"1500\" src=\"img/2018_gsp_lateSender_allInOne.png\">"
   ]
  },
  {
   "cell_type": "markdown",
   "metadata": {
    "slideshow": {
     "slide_type": "slide"
    }
   },
   "source": [
    "# Student assistant"
   ]
  },
  {
   "cell_type": "markdown",
   "metadata": {
    "slideshow": {
     "slide_type": "fragment"
    }
   },
   "source": [
    "- Koschmieder, L., Hojda, S., Apel, M. et al. AixViPMaP®—an Operational Platform for Microstructure Modeling Workflows. Integr Mater Manuf Innov 8, 122–143 (2019). https://doi.org/10.1007/s40192-019-00138-3"
   ]
  },
  {
   "cell_type": "markdown",
   "metadata": {
    "slideshow": {
     "slide_type": "fragment"
    }
   },
   "source": [
    "- Contributed to HDF5 exchange format of the platform "
   ]
  },
  {
   "cell_type": "markdown",
   "metadata": {
    "slideshow": {
     "slide_type": "subslide"
    }
   },
   "source": [
    "<img style=\"float: center;\" width=\"640\" src=\"img/2018_hiwi_aixvipmap.jpg\">"
   ]
  },
  {
   "cell_type": "markdown",
   "metadata": {
    "slideshow": {
     "slide_type": "slide"
    }
   },
   "source": [
    "# Student lab"
   ]
  },
  {
   "cell_type": "markdown",
   "metadata": {
    "slideshow": {
     "slide_type": "fragment"
    }
   },
   "source": [
    "- 2019 at [Institute of Quantum Theory of Materials, Jülich](https://www.fz-juelich.de/pgi/pgi-1/EN) (Prof. Blügel)"
   ]
  },
  {
   "cell_type": "markdown",
   "metadata": {
    "slideshow": {
     "slide_type": "fragment"
    }
   },
   "source": [
    "- Product: [bandstructure and DOS visualization tool](https://github.com/JuDFTteam/masci-tools/tree/studentproject18ws/studentproject18w)"
   ]
  },
  {
   "cell_type": "markdown",
   "metadata": {
    "slideshow": {
     "slide_type": "fragment"
    }
   },
   "source": [
    "- Wrote a generic HDF5 preprocessor and the Jupyter GUI"
   ]
  },
  {
   "cell_type": "markdown",
   "metadata": {
    "slideshow": {
     "slide_type": "subslide"
    }
   },
   "source": [
    "<img style=\"float: center;\" width=\"600\" src=\"img/2019_sisclab_preprocessor.png\">"
   ]
  },
  {
   "cell_type": "markdown",
   "metadata": {
    "slideshow": {
     "slide_type": "subslide"
    }
   },
   "source": [
    "<img style=\"float: center;\" width=\"1500\" src=\"img/2019_sisclab_web-frontend.png\">"
   ]
  },
  {
   "cell_type": "markdown",
   "metadata": {
    "slideshow": {
     "slide_type": "slide"
    }
   },
   "source": [
    "# Sparetime <img style=\"float: right;\" width=\"200\" src=\"img/oph.png\">"
   ]
  },
  {
   "cell_type": "markdown",
   "metadata": {
    "slideshow": {
     "slide_type": "fragment"
    }
   },
   "source": [
    "- chairman of [OPH e.V.](https://www.oph.rwth-aachen.de)"
   ]
  },
  {
   "cell_type": "markdown",
   "metadata": {
    "slideshow": {
     "slide_type": "fragment"
    }
   },
   "source": [
    "- a charitable association providing living essentials to 200 students"
   ]
  },
  {
   "cell_type": "markdown",
   "metadata": {
    "slideshow": {
     "slide_type": "slide"
    }
   },
   "source": [
    "# Live Demo"
   ]
  },
  {
   "cell_type": "markdown",
   "metadata": {
    "slideshow": {
     "slide_type": "slide"
    }
   },
   "source": [
    "# Thesis Administrative Questions\n",
    "\n",
    "> how many months will the actual project be and when exactly (if it is already fixed)\n",
    "\n",
    "Regulations say 18 weeks, with max. 6 weeks extensions under exceptional circumstances.\n",
    "\n",
    "> what are the exact formal requirements for the thesis from your university (number of hours per week, topic, ...)\n",
    "\n",
    "- Hours per week: the thesis is 30 credit points, so 50 to 40 hours per week.\n",
    "- Topic: no official restrictios. language: English.\n",
    "- Colloquium may be held before submission of thesis.\n",
    "- Registration process: may delay possible start to November. Because exam session here ends with October.\n",
    "- external supervisor: must have a university degree.\n",
    "- a time schedule must be worked out beforehand and handed in to the examination board before approval"
   ]
  },
  {
   "cell_type": "markdown",
   "metadata": {
    "slideshow": {
     "slide_type": "slide"
    }
   },
   "source": [
    "# Thesis Administrative Questions\n",
    "\n",
    "> will there be an official supervisor from Aachen? Do you already know who this could be?\n",
    "\n",
    "Yes. It must be a professor of one of the departments affiliated with my course of study. Prof. Blügel would be suitable and I think willing. Other options can be explored.\n",
    "\n",
    "> will you be done with all exams and work 100% of your working time on the thesis, or will you have other duties (e.g. pending exams or projects) in parallel? (It’s not a problem if it’s less than 100%, as long as we know what to expect)\n",
    "\n",
    "Yes, if I pass all exams in summer, I will have one exam to finish in February / March, High Performance Computing, 6 credit points. \n",
    "\n",
    "I can list all detailed regulations on request in a mail."
   ]
  }
 ],
 "metadata": {
  "celltoolbar": "Slideshow",
  "kernelspec": {
   "display_name": "Python 3",
   "language": "python",
   "name": "python3"
  },
  "language_info": {
   "codemirror_mode": {
    "name": "ipython",
    "version": 3
   },
   "file_extension": ".py",
   "mimetype": "text/x-python",
   "name": "python",
   "nbconvert_exporter": "python",
   "pygments_lexer": "ipython3",
   "version": "3.6.7"
  },
  "varInspector": {
   "cols": {
    "lenName": 16,
    "lenType": 16,
    "lenVar": 40
   },
   "kernels_config": {
    "python": {
     "delete_cmd_postfix": "",
     "delete_cmd_prefix": "del ",
     "library": "var_list.py",
     "varRefreshCmd": "print(var_dic_list())"
    },
    "r": {
     "delete_cmd_postfix": ") ",
     "delete_cmd_prefix": "rm(",
     "library": "var_list.r",
     "varRefreshCmd": "cat(var_dic_list()) "
    }
   },
   "types_to_exclude": [
    "module",
    "function",
    "builtin_function_or_method",
    "instance",
    "_Feature"
   ],
   "window_display": false
  }
 },
 "nbformat": 4,
 "nbformat_minor": 4
}
